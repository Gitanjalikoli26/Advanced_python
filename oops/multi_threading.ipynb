{
 "cells": [
  {
   "cell_type": "markdown",
   "id": "54fa3095",
   "metadata": {},
   "source": [
    "## Multi-Threading "
   ]
  },
  {
   "cell_type": "markdown",
   "id": "4d4d1f6a",
   "metadata": {},
   "source": [
    "Multithreading is a programming technique where multiple tasks (threads) run concurrently (at the same time) within a single program.\n",
    "\n",
    "Think of it like a chef (main program) cooking multiple dishes (threads) at once instead of one-by-one — saving time!\n",
    "\n",
    "\n"
   ]
  },
  {
   "cell_type": "markdown",
   "id": "f4b80c6e",
   "metadata": {},
   "source": [
    "## Why Do We Use Multithreading?\n",
    "To perform tasks simultaneously (e.g., downloading while updating UI)\n",
    "\n",
    "Improves performance in I/O-bound programs (like file reading, network calls)\n",
    "\n",
    "Helps in responsive applications (e.g., GUI apps)"
   ]
  },
  {
   "cell_type": "markdown",
   "id": "cd4d06e9",
   "metadata": {},
   "source": [
    "## Threads "
   ]
  },
  {
   "cell_type": "markdown",
   "id": "d899fa67",
   "metadata": {},
   "source": [
    "A thread is the smallest unit of execution in a program.\n",
    "Each thread runs independently, but shares the same memory of the main program.\n",
    "\n",
    "Main thread = the primary execution\n",
    "\n",
    "Child threads = other tasks running in parallel"
   ]
  },
  {
   "cell_type": "markdown",
   "id": "99707cef",
   "metadata": {},
   "source": [
    "## What is thread.join() in Python?\n",
    "thread.join() is used to wait for a thread to finish before continuing the rest of the program.\n",
    "\n"
   ]
  },
  {
   "cell_type": "code",
   "execution_count": 1,
   "id": "2a639691",
   "metadata": {},
   "outputs": [],
   "source": [
    "import time"
   ]
  },
  {
   "cell_type": "code",
   "execution_count": 18,
   "id": "56363873",
   "metadata": {},
   "outputs": [],
   "source": [
    "def cube_data(num):\n",
    "    time.sleep(5)\n",
    "    print(f'The cude of {num} is {num**3}')\n",
    "    return num**3\n"
   ]
  },
  {
   "cell_type": "code",
   "execution_count": 19,
   "id": "af0fee1e",
   "metadata": {},
   "outputs": [
    {
     "name": "stdout",
     "output_type": "stream",
     "text": [
      "The cude of 5 is 125\n"
     ]
    },
    {
     "data": {
      "text/plain": [
       "125"
      ]
     },
     "execution_count": 19,
     "metadata": {},
     "output_type": "execute_result"
    }
   ],
   "source": [
    "c_data=cube_data(5)\n",
    "c_data"
   ]
  },
  {
   "cell_type": "code",
   "execution_count": 20,
   "id": "2fb485d5",
   "metadata": {},
   "outputs": [],
   "source": [
    "def simple_interest(p,r,t):\n",
    "    time.sleep(3)\n",
    "    print(f\"simple interest is {(p*r*t)/100}\")\n",
    "    return (p*r*t)/100"
   ]
  },
  {
   "cell_type": "code",
   "execution_count": 21,
   "id": "649b1e19",
   "metadata": {},
   "outputs": [
    {
     "name": "stdout",
     "output_type": "stream",
     "text": [
      "simple interest is 5400.0\n"
     ]
    },
    {
     "data": {
      "text/plain": [
       "5400.0"
      ]
     },
     "execution_count": 21,
     "metadata": {},
     "output_type": "execute_result"
    }
   ],
   "source": [
    "s_interest=simple_interest(5400,12.5,8)\n",
    "s_interest"
   ]
  },
  {
   "cell_type": "markdown",
   "id": "7916a246",
   "metadata": {},
   "source": [
    "## using thread"
   ]
  },
  {
   "cell_type": "code",
   "execution_count": 22,
   "id": "7aff3717",
   "metadata": {},
   "outputs": [
    {
     "name": "stdout",
     "output_type": "stream",
     "text": [
      "simple interest is 5400.0\n",
      "The cude of 5 is 125\n"
     ]
    }
   ],
   "source": [
    "from threading import Thread\n",
    "th1=Thread(target=cube_data,args=(5,))\n",
    "th2=Thread(target=simple_interest,args=(5400,12.5,8,))\n",
    "\n",
    "th1.start()\n",
    "th2.start()\n",
    "\n",
    "th1.join()\n",
    "th2.join()"
   ]
  },
  {
   "cell_type": "code",
   "execution_count": 23,
   "id": "1de500be",
   "metadata": {},
   "outputs": [],
   "source": [
    "urls = [\n",
    "    \"https://raw.githubusercontent.com/utkarshg1/mlproject_regression/main/artifacts/data.csv\",\n",
    "\"https://raw.githubusercontent.com/utkarshg1/mlproject_regression/main/artifacts/test.csv\",\n",
    "\"https://raw.githubusercontent.com/utkarshg1/mlproject_regression/main/artifacts/train.csv\"\n",
    "]"
   ]
  },
  {
   "cell_type": "code",
   "execution_count": 24,
   "id": "874ec148",
   "metadata": {},
   "outputs": [
    {
     "name": "stdout",
     "output_type": "stream",
     "text": [
      "data.csv\n",
      "test.csv\n",
      "train.csv\n"
     ]
    }
   ],
   "source": [
    "for url in urls:\n",
    "    # a = url.split('/')\n",
    "    # print(a)\n",
    "    # print(a[-1])\n",
    "    print(url.split('/')[-1])"
   ]
  },
  {
   "cell_type": "code",
   "execution_count": 25,
   "id": "e535056a",
   "metadata": {},
   "outputs": [],
   "source": [
    "u1 = \"https://raw.githubusercontent.com/utkarshg1/mlproject_regression/main/artifacts/data.csv\"\n"
   ]
  },
  {
   "cell_type": "code",
   "execution_count": 26,
   "id": "d1f883e9",
   "metadata": {},
   "outputs": [],
   "source": [
    "from urllib.request import urlretrieve\n"
   ]
  },
  {
   "cell_type": "code",
   "execution_count": 27,
   "id": "84aa4dc6",
   "metadata": {},
   "outputs": [],
   "source": [
    "def download_data(url_link):\n",
    "    # Extract filename from url links\n",
    "    file_name = url_link.split('/')[-1]\n",
    "\n",
    "    # print downloading status to user\n",
    "    print(f\"{file_name} is downloading ...\")\n",
    "\n",
    "    # retrieve content from the url and copy that to filename provided\n",
    "    urlretrieve(url_link,filename=file_name)\n",
    "\n",
    "     # print downloading status to user\n",
    "    print(f\"{file_name} got downloaded\")"
   ]
  },
  {
   "cell_type": "code",
   "execution_count": 28,
   "id": "56a42a1c",
   "metadata": {},
   "outputs": [
    {
     "name": "stdout",
     "output_type": "stream",
     "text": [
      "data.csv is downloading ...\n",
      "data.csv got downloaded\n",
      "test.csv is downloading ...\n",
      "test.csv got downloaded\n",
      "train.csv is downloading ...\n",
      "train.csv got downloaded\n"
     ]
    }
   ],
   "source": [
    "for url in urls:\n",
    "    download_data(url)"
   ]
  },
  {
   "cell_type": "code",
   "execution_count": 29,
   "id": "653948df",
   "metadata": {},
   "outputs": [
    {
     "name": "stdout",
     "output_type": "stream",
     "text": [
      "data.csv is downloading ...\n",
      "test.csv is downloading ...\n",
      "train.csv is downloading ...\n",
      "test.csv got downloaded\n",
      "data.csv got downloaded\n",
      "train.csv got downloaded\n",
      "CPU times: total: 281 ms\n",
      "Wall time: 2.05 s\n"
     ]
    }
   ],
   "source": [
    "%%time\n",
    "Threads = []\n",
    "for url in urls:\n",
    "    thread = Thread(target=download_data,args=(url,))\n",
    "    thread.start()\n",
    "\n",
    "    Threads.append(thread)\n",
    "\n",
    "for th in Threads:\n",
    "    th.join()"
   ]
  }
 ],
 "metadata": {
  "kernelspec": {
   "display_name": "venv",
   "language": "python",
   "name": "python3"
  },
  "language_info": {
   "codemirror_mode": {
    "name": "ipython",
    "version": 3
   },
   "file_extension": ".py",
   "mimetype": "text/x-python",
   "name": "python",
   "nbconvert_exporter": "python",
   "pygments_lexer": "ipython3",
   "version": "3.10.0"
  }
 },
 "nbformat": 4,
 "nbformat_minor": 5
}
