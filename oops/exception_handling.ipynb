{
 "cells": [
  {
   "cell_type": "markdown",
   "id": "a5eb7cd9",
   "metadata": {},
   "source": [
    "## Exception Handling"
   ]
  },
  {
   "cell_type": "markdown",
   "id": "8c90f544",
   "metadata": {},
   "source": [
    "## Try Except Block"
   ]
  },
  {
   "cell_type": "code",
   "execution_count": 4,
   "id": "7a802007",
   "metadata": {},
   "outputs": [
    {
     "name": "stdout",
     "output_type": "stream",
     "text": [
      "<class 'ZeroDivisionError'>\n"
     ]
    }
   ],
   "source": [
    "##  try Except Block:\n",
    "def calculation():\n",
    "    try:\n",
    "        num1=int(input(\"Enter the num1:\"))\n",
    "        num2=int(input(\"Enter the num2:\"))\n",
    "        division=num1/num2\n",
    "        print(division)\n",
    "        \n",
    "    except ValueError:\n",
    "        print(ValueError)\n",
    "        \n",
    "    except ZeroDivisionError:\n",
    "        print(ZeroDivisionError)\n",
    "        \n",
    "calculation()\n",
    "    "
   ]
  },
  {
   "cell_type": "markdown",
   "id": "d208fe43",
   "metadata": {},
   "source": []
  },
  {
   "cell_type": "markdown",
   "id": "fd735911",
   "metadata": {},
   "source": [
    "## Finally Block"
   ]
  },
  {
   "cell_type": "code",
   "execution_count": 5,
   "id": "9d08eeb0",
   "metadata": {},
   "outputs": [
    {
     "name": "stdout",
     "output_type": "stream",
     "text": [
      "0.5\n",
      "Sucussfully Run Code......\n"
     ]
    }
   ],
   "source": [
    "##  try Except Block:\n",
    "def calculation():\n",
    "    try:\n",
    "        num1=int(input(\"Enter the num1:\"))\n",
    "        num2=int(input(\"Enter the num2:\"))\n",
    "        division=num1/num2\n",
    "        print(division)\n",
    "        \n",
    "    except ValueError:\n",
    "        print(ValueError)\n",
    "        \n",
    "    except ZeroDivisionError:\n",
    "        print(ZeroDivisionError)\n",
    "    finally:\n",
    "        print(\"Sucussfully Run Code......\")\n",
    "        \n",
    "calculation()\n",
    "    "
   ]
  }
 ],
 "metadata": {
  "kernelspec": {
   "display_name": "venv",
   "language": "python",
   "name": "python3"
  },
  "language_info": {
   "codemirror_mode": {
    "name": "ipython",
    "version": 3
   },
   "file_extension": ".py",
   "mimetype": "text/x-python",
   "name": "python",
   "nbconvert_exporter": "python",
   "pygments_lexer": "ipython3",
   "version": "3.10.0"
  }
 },
 "nbformat": 4,
 "nbformat_minor": 5
}
