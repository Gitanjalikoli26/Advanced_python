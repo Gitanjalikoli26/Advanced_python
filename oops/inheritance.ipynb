{
 "cells": [
  {
   "cell_type": "markdown",
   "id": "e80adff5",
   "metadata": {},
   "source": [
    "## Single Inheritance\n",
    "## A subclass that inherite the property of super class"
   ]
  },
  {
   "cell_type": "code",
   "execution_count": 12,
   "id": "dffbd6d8",
   "metadata": {},
   "outputs": [],
   "source": [
    "class person:\n",
    "    \n",
    "    def __init__(self,name,age):\n",
    "        self.name=name\n",
    "        self.age=age\n",
    "        \n",
    "    def introduction(self):\n",
    "        print(f'the name of person is {self.name} and age is {self.age}.')"
   ]
  },
  {
   "cell_type": "code",
   "execution_count": null,
   "id": "0cd51f56",
   "metadata": {},
   "outputs": [],
   "source": [
    "class Employee(person):\n",
    "    \n",
    "    def __init__(self, name, age,company):\n",
    "        super().__init__(name,age)\n",
    "        self.company=company\n",
    "        \n",
    "    def work(self):\n",
    "        super().introduction()  \n",
    "        print(f'company name is {self.company}')"
   ]
  },
  {
   "cell_type": "code",
   "execution_count": 24,
   "id": "22eddeeb",
   "metadata": {},
   "outputs": [],
   "source": [
    "e=Employee('Mansi',23,'TCS')"
   ]
  },
  {
   "cell_type": "code",
   "execution_count": 25,
   "id": "0e6b439a",
   "metadata": {},
   "outputs": [
    {
     "name": "stdout",
     "output_type": "stream",
     "text": [
      "the name of person is Mansi and age is 23.\n"
     ]
    }
   ],
   "source": [
    "e.introduction()"
   ]
  },
  {
   "cell_type": "code",
   "execution_count": 26,
   "id": "efd388c6",
   "metadata": {},
   "outputs": [
    {
     "name": "stdout",
     "output_type": "stream",
     "text": [
      "the name of person is Mansi and age is 23.\n",
      "company name is TCS\n"
     ]
    }
   ],
   "source": [
    "e.work()"
   ]
  },
  {
   "cell_type": "markdown",
   "id": "5d082c50",
   "metadata": {},
   "source": [
    "## Hierarchical Inheritance"
   ]
  },
  {
   "cell_type": "code",
   "execution_count": null,
   "id": "6f62d536",
   "metadata": {},
   "outputs": [],
   "source": [
    "# parent class\n",
    "class garve_hrundai:\n",
    "    \n",
    "    def __init__(self,name,location):\n",
    "        self.name=name\n",
    "        self.location=location\n",
    "        \n",
    "    def greeting(self):\n",
    "        print(f'hello {self.name} sir/madam . Welcome to our showroom.')\n",
    "        \n",
    "        \n",
    "    def model_info(self):\n",
    "        print(f'We have the latest model of hrundai.')\n",
    "        "
   ]
  },
  {
   "cell_type": "code",
   "execution_count": 56,
   "id": "f49892a2",
   "metadata": {},
   "outputs": [],
   "source": [
    "class grandi10(garve_hrundai):\n",
    "    \n",
    "    def __init__(self, name, location,price_range):\n",
    "        super().__init__(name, location)\n",
    "        self.price_range=price_range\n",
    "        \n",
    "    def enquiry_model(self):\n",
    "        super().greeting()\n",
    "        print(f'featires of this models is so on so , and onborad price is 10 lakh.')\n",
    "        if self.price_range > 10:\n",
    "            print(f'I also have best model in range above the 10')\n",
    "        \n",
    "    def enquiry_price(self):\n",
    "        # super().greeting()\n",
    "        super().model_info()\n",
    "        "
   ]
  },
  {
   "cell_type": "code",
   "execution_count": 57,
   "id": "d8f10265",
   "metadata": {},
   "outputs": [],
   "source": [
    "g=grandi10('soni','wakad',9)"
   ]
  },
  {
   "cell_type": "code",
   "execution_count": 58,
   "id": "0991244c",
   "metadata": {},
   "outputs": [
    {
     "name": "stdout",
     "output_type": "stream",
     "text": [
      "hello soni sir/madam . Welcome to our showroom.\n"
     ]
    }
   ],
   "source": [
    "g.greeting()"
   ]
  },
  {
   "cell_type": "code",
   "execution_count": 59,
   "id": "c610af48",
   "metadata": {},
   "outputs": [
    {
     "name": "stdout",
     "output_type": "stream",
     "text": [
      "We have the latest model of hrundai.\n"
     ]
    }
   ],
   "source": [
    "g.enquiry_price()"
   ]
  },
  {
   "cell_type": "code",
   "execution_count": 60,
   "id": "39b8dade",
   "metadata": {},
   "outputs": [],
   "source": [
    "g1=grandi10('Mansi','Kalyan',12)"
   ]
  },
  {
   "cell_type": "code",
   "execution_count": 61,
   "id": "db6bf245",
   "metadata": {},
   "outputs": [
    {
     "name": "stdout",
     "output_type": "stream",
     "text": [
      "We have the latest model of hrundai.\n"
     ]
    }
   ],
   "source": [
    "g1.enquiry_price()"
   ]
  },
  {
   "cell_type": "markdown",
   "id": "44e784df",
   "metadata": {},
   "source": [
    "## Hybrid Inheritance"
   ]
  },
  {
   "cell_type": "code",
   "execution_count": null,
   "id": "311077fe",
   "metadata": {},
   "outputs": [],
   "source": [
    "# parent class\n",
    "class Employee:\n",
    "    \n",
    "    def __init__(self,name,emp_id):\n",
    "        self.name=name\n",
    "        self.emp_id=emp_id\n",
    "        \n",
    "    def get_emp_info(self):\n",
    "        print(f'The name of emp is {self.name} and id is {self.emp_id}')"
   ]
  },
  {
   "cell_type": "code",
   "execution_count": 63,
   "id": "839b5f59",
   "metadata": {},
   "outputs": [],
   "source": [
    "class manager(Employee):\n",
    "    def __init__(self, name, emp_id,department):\n",
    "        super().__init__(name, emp_id)\n",
    "        self.department=department\n",
    "        \n",
    "    def get_manager_info(self):\n",
    "        return f'{self.get_emp_info()},department:{self.department}'\n",
    "        "
   ]
  },
  {
   "cell_type": "code",
   "execution_count": 64,
   "id": "ee4e907b",
   "metadata": {},
   "outputs": [],
   "source": [
    "class projectManager(manager):\n",
    "    \n",
    "    def __init__(self, name, emp_id, department,project):\n",
    "        super().__init__(name, emp_id, department)\n",
    "        self.project=project\n",
    "        \n",
    "    def get_project_info(self):\n",
    "        return f'{self.get_emp_info()},project:{self.project}'"
   ]
  },
  {
   "cell_type": "code",
   "execution_count": 65,
   "id": "3ab532f4",
   "metadata": {},
   "outputs": [],
   "source": [
    "manager1=manager('raman',1234,'IT')"
   ]
  },
  {
   "cell_type": "code",
   "execution_count": 67,
   "id": "1da1cc1f",
   "metadata": {},
   "outputs": [
    {
     "name": "stdout",
     "output_type": "stream",
     "text": [
      "The name of emp is raman and id is 1234\n"
     ]
    }
   ],
   "source": [
    "emp_data=manager1.get_emp_info()\n",
    "emp_data"
   ]
  },
  {
   "cell_type": "code",
   "execution_count": 68,
   "id": "391391bb",
   "metadata": {},
   "outputs": [
    {
     "name": "stdout",
     "output_type": "stream",
     "text": [
      "The name of emp is raman and id is 1234\n"
     ]
    }
   ],
   "source": [
    "emp_manager_data=manager1.get_manager_info()"
   ]
  }
 ],
 "metadata": {
  "kernelspec": {
   "display_name": "venv",
   "language": "python",
   "name": "python3"
  },
  "language_info": {
   "codemirror_mode": {
    "name": "ipython",
    "version": 3
   },
   "file_extension": ".py",
   "mimetype": "text/x-python",
   "name": "python",
   "nbconvert_exporter": "python",
   "pygments_lexer": "ipython3",
   "version": "3.10.0"
  }
 },
 "nbformat": 4,
 "nbformat_minor": 5
}
