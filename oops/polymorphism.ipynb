{
 "cells": [
  {
   "cell_type": "markdown",
   "id": "28e0c17b",
   "metadata": {},
   "source": [
    "## Polymorphism "
   ]
  },
  {
   "cell_type": "code",
   "execution_count": 1,
   "id": "41eb516b",
   "metadata": {},
   "outputs": [],
   "source": [
    "class India:\n",
    "    \n",
    "    def __init__(self):\n",
    "        pass\n",
    "    \n",
    "    def Capital(self):\n",
    "        print(\"Delhi is the capital of India.\")\n",
    "        \n",
    "    def Language(self):\n",
    "        print(\"Hindi and English is mostly widely language in India.\")"
   ]
  },
  {
   "cell_type": "code",
   "execution_count": 2,
   "id": "1d16843f",
   "metadata": {},
   "outputs": [],
   "source": [
    "class USA:\n",
    "    \n",
    "    def __init__(self):\n",
    "        pass\n",
    "    \n",
    "    def Capital(self):\n",
    "        print('WashingTown is the capital of USA.')\n",
    "        \n",
    "    def Language(self):\n",
    "        print(\"English is widely used for Spoken in USA\")"
   ]
  },
  {
   "cell_type": "code",
   "execution_count": 3,
   "id": "52d2b389",
   "metadata": {},
   "outputs": [],
   "source": [
    "i=India()"
   ]
  },
  {
   "cell_type": "code",
   "execution_count": 4,
   "id": "306a7529",
   "metadata": {},
   "outputs": [],
   "source": [
    "u=USA()"
   ]
  },
  {
   "cell_type": "code",
   "execution_count": 5,
   "id": "31f13521",
   "metadata": {},
   "outputs": [
    {
     "name": "stdout",
     "output_type": "stream",
     "text": [
      "Delhi is the capital of India.\n"
     ]
    }
   ],
   "source": [
    "i.Capital()"
   ]
  },
  {
   "cell_type": "code",
   "execution_count": 6,
   "id": "9bf68426",
   "metadata": {},
   "outputs": [
    {
     "name": "stdout",
     "output_type": "stream",
     "text": [
      "Hindi and English is mostly widely language in India.\n"
     ]
    }
   ],
   "source": [
    "i.Language()"
   ]
  },
  {
   "cell_type": "code",
   "execution_count": 7,
   "id": "2b214a1d",
   "metadata": {},
   "outputs": [
    {
     "name": "stdout",
     "output_type": "stream",
     "text": [
      "WashingTown is the capital of USA.\n"
     ]
    }
   ],
   "source": [
    "u.Capital()"
   ]
  },
  {
   "cell_type": "code",
   "execution_count": 8,
   "id": "66be8e6a",
   "metadata": {},
   "outputs": [
    {
     "name": "stdout",
     "output_type": "stream",
     "text": [
      "English is widely used for Spoken in USA\n"
     ]
    }
   ],
   "source": [
    "u.Language()"
   ]
  },
  {
   "cell_type": "code",
   "execution_count": null,
   "id": "91772036",
   "metadata": {},
   "outputs": [],
   "source": []
  },
  {
   "cell_type": "code",
   "execution_count": null,
   "id": "db3a55cc",
   "metadata": {},
   "outputs": [],
   "source": []
  }
 ],
 "metadata": {
  "kernelspec": {
   "display_name": "venv",
   "language": "python",
   "name": "python3"
  },
  "language_info": {
   "codemirror_mode": {
    "name": "ipython",
    "version": 3
   },
   "file_extension": ".py",
   "mimetype": "text/x-python",
   "name": "python",
   "nbconvert_exporter": "python",
   "pygments_lexer": "ipython3",
   "version": "3.10.0"
  }
 },
 "nbformat": 4,
 "nbformat_minor": 5
}
