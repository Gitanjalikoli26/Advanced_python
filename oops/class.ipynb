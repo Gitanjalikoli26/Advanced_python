{
 "cells": [
  {
   "cell_type": "markdown",
   "id": "eaa18cf1",
   "metadata": {},
   "source": [
    "## Define a class"
   ]
  },
  {
   "cell_type": "code",
   "execution_count": 6,
   "id": "5acf7698",
   "metadata": {},
   "outputs": [],
   "source": [
    "class Person:\n",
    "    \n",
    "    def __init__(self,name,age,occupation,stay):\n",
    "        self.name=name\n",
    "        self.age=age\n",
    "        self.occupation=occupation\n",
    "        self.stay=stay\n",
    "        \n",
    "    def talk(self):\n",
    "        print(f'My name is {self.name} and age is {self.age}')\n",
    "        print(f'I live at {self.stay}')\n",
    "        print(f'I worked in the {self.occupation}')\n",
    "        \n",
    "    def work(self,n):\n",
    "        print(f'I am currently working at {self.occupation}')\n",
    "        print(f'I am working since last {n} years.')\n",
    "        "
   ]
  },
  {
   "cell_type": "code",
   "execution_count": 7,
   "id": "7c7573fa",
   "metadata": {},
   "outputs": [],
   "source": [
    "p=Person('mansi',23,'developer','mumbai')"
   ]
  },
  {
   "cell_type": "code",
   "execution_count": 8,
   "id": "9b87a3c4",
   "metadata": {},
   "outputs": [
    {
     "name": "stdout",
     "output_type": "stream",
     "text": [
      "My name is mansi and age is 23\n",
      "I live at mumbai\n",
      "I worked in the developer\n"
     ]
    }
   ],
   "source": [
    "p.talk()"
   ]
  },
  {
   "cell_type": "code",
   "execution_count": 10,
   "id": "6227727a",
   "metadata": {},
   "outputs": [
    {
     "name": "stdout",
     "output_type": "stream",
     "text": [
      "I am currently working at developer\n",
      "I am working since last 3 years.\n"
     ]
    }
   ],
   "source": [
    "p.work(3)"
   ]
  },
  {
   "cell_type": "markdown",
   "id": "9fec79b2",
   "metadata": {},
   "source": [
    "## Bank Example"
   ]
  },
  {
   "cell_type": "code",
   "execution_count": 22,
   "id": "09bed423",
   "metadata": {},
   "outputs": [],
   "source": [
    "class Bank:\n",
    "    \n",
    "    def __init__(self,account_number,account_name,balance):\n",
    "        self.account_number=account_number\n",
    "        self.account_name=account_name\n",
    "        self.balance=balance\n",
    "        \n",
    "    def withdrawal(self,amount):\n",
    "        \n",
    "        if amount< self.balance  :\n",
    "            self.balance=self.balance - amount\n",
    "        return f'Amount Withdrawal is {amount}.The updated balance is {self.balance}'\n",
    "    \n",
    "    def deposite(self,deposite_amount):\n",
    "        \n",
    "        self.balance=self.balance + deposite_amount\n",
    "        \n",
    "        return f'Amount deposite is {deposite_amount}.The Updated balance is {self.balance}'\n",
    "    \n",
    "    def transfer(self,transfer_amount,transfer_account_number):\n",
    "        \n",
    "        self.balance=self.balance - transfer_amount\n",
    "        \n",
    "        return f'Transfer balance is {transfer_amount}.The transfer account number {transfer_account_number}'\n",
    "    \n",
    "    \n",
    "            "
   ]
  },
  {
   "cell_type": "code",
   "execution_count": 23,
   "id": "c9898c4f",
   "metadata": {},
   "outputs": [],
   "source": [
    "b=Bank(23456876678,'mansi',90000)"
   ]
  },
  {
   "cell_type": "code",
   "execution_count": 24,
   "id": "d816ed2c",
   "metadata": {},
   "outputs": [
    {
     "data": {
      "text/plain": [
       "'Amount Withdrawal is 2000.The updated balance is 88000'"
      ]
     },
     "execution_count": 24,
     "metadata": {},
     "output_type": "execute_result"
    }
   ],
   "source": [
    "b.withdrawal(2000)"
   ]
  },
  {
   "cell_type": "code",
   "execution_count": 25,
   "id": "29d5f1ed",
   "metadata": {},
   "outputs": [
    {
     "data": {
      "text/plain": [
       "'Amount deposite is 10000.The Updated balance is 98000'"
      ]
     },
     "execution_count": 25,
     "metadata": {},
     "output_type": "execute_result"
    }
   ],
   "source": [
    "b.deposite(10000)"
   ]
  },
  {
   "cell_type": "code",
   "execution_count": 26,
   "id": "96edf61d",
   "metadata": {},
   "outputs": [
    {
     "data": {
      "text/plain": [
       "'Transfer balance is 20000.The transfer account number 89765433'"
      ]
     },
     "execution_count": 26,
     "metadata": {},
     "output_type": "execute_result"
    }
   ],
   "source": [
    "b.transfer(20000,89765433)"
   ]
  }
 ],
 "metadata": {
  "kernelspec": {
   "display_name": "venv",
   "language": "python",
   "name": "python3"
  },
  "language_info": {
   "codemirror_mode": {
    "name": "ipython",
    "version": 3
   },
   "file_extension": ".py",
   "mimetype": "text/x-python",
   "name": "python",
   "nbconvert_exporter": "python",
   "pygments_lexer": "ipython3",
   "version": "3.10.0"
  }
 },
 "nbformat": 4,
 "nbformat_minor": 5
}
