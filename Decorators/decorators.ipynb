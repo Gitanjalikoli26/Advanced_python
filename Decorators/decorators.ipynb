{
 "cells": [
  {
   "cell_type": "markdown",
   "id": "87d96a64",
   "metadata": {},
   "source": [
    "## Decorators\n"
   ]
  },
  {
   "cell_type": "code",
   "execution_count": 1,
   "id": "9b2b0fd9",
   "metadata": {},
   "outputs": [
    {
     "name": "stdout",
     "output_type": "stream",
     "text": [
      "Collecting ensure\n",
      "  Downloading ensure-1.0.4-py3-none-any.whl.metadata (10 kB)\n",
      "Requirement already satisfied: six>=1.11.0 in d:\\advaned_python _coding\\repository\\venv\\lib\\site-packages (from ensure) (1.17.0)\n",
      "Downloading ensure-1.0.4-py3-none-any.whl (15 kB)\n",
      "Installing collected packages: ensure\n",
      "Successfully installed ensure-1.0.4\n",
      "Note: you may need to restart the kernel to use updated packages.\n"
     ]
    }
   ],
   "source": [
    "pip install ensure"
   ]
  },
  {
   "cell_type": "code",
   "execution_count": 2,
   "id": "bf8bea1e",
   "metadata": {},
   "outputs": [],
   "source": [
    "from ensure import ensure_annotations"
   ]
  },
  {
   "cell_type": "markdown",
   "id": "93299ea0",
   "metadata": {},
   "source": [
    "## restart and run\n"
   ]
  },
  {
   "cell_type": "code",
   "execution_count": 3,
   "id": "4f8bf121",
   "metadata": {},
   "outputs": [],
   "source": [
    "def multiply(x:int|float,y:int|float):\n",
    "    prod=x*y\n",
    "    return prod"
   ]
  },
  {
   "cell_type": "code",
   "execution_count": 4,
   "id": "97ddd9ad",
   "metadata": {},
   "outputs": [
    {
     "data": {
      "text/plain": [
       "30"
      ]
     },
     "execution_count": 4,
     "metadata": {},
     "output_type": "execute_result"
    }
   ],
   "source": [
    "multiply(5,6)"
   ]
  },
  {
   "cell_type": "code",
   "execution_count": null,
   "id": "c968e014",
   "metadata": {},
   "outputs": [],
   "source": [
    "# Meaning of annotation is consider the actuall value means in this example it consider int and float . \n",
    "# if you not used annotation then it consider the string and any other data type also.\n",
    "@ensure_annotations\n",
    "def multiply(x:int|float,y:int|float):\n",
    "    prod=x*y\n",
    "    return prod"
   ]
  },
  {
   "cell_type": "code",
   "execution_count": 6,
   "id": "4148b0e5",
   "metadata": {},
   "outputs": [
    {
     "data": {
      "text/plain": [
       "15"
      ]
     },
     "execution_count": 6,
     "metadata": {},
     "output_type": "execute_result"
    }
   ],
   "source": [
    "multiply(3,5)"
   ]
  },
  {
   "cell_type": "markdown",
   "id": "3e7860f6",
   "metadata": {},
   "source": [
    "## Use of Decorators to calculate simple interest"
   ]
  },
  {
   "cell_type": "code",
   "execution_count": 8,
   "id": "2247b5a4",
   "metadata": {},
   "outputs": [],
   "source": [
    "def welcome(func):\n",
    "    \n",
    "    def wrapper(*args,**kwargs):\n",
    "        print(\"Welcome to use decorator world\")\n",
    "        \n",
    "        result=func(*args,**kwargs)\n",
    "        print(\"Thank You!!!\")\n",
    "        \n",
    "        return result\n",
    "    \n",
    "    return wrapper"
   ]
  },
  {
   "cell_type": "code",
   "execution_count": 9,
   "id": "09dc1ea0",
   "metadata": {},
   "outputs": [],
   "source": [
    "@welcome\n",
    "def simple_interest(p,r,t):\n",
    "    si=(p*r*t)/100\n",
    "    \n",
    "    return si    "
   ]
  },
  {
   "cell_type": "code",
   "execution_count": 10,
   "id": "f899ffa4",
   "metadata": {},
   "outputs": [
    {
     "name": "stdout",
     "output_type": "stream",
     "text": [
      "Welcome to use decorator world\n",
      "Thank You!!!\n"
     ]
    },
    {
     "data": {
      "text/plain": [
       "108000.0"
      ]
     },
     "execution_count": 10,
     "metadata": {},
     "output_type": "execute_result"
    }
   ],
   "source": [
    "simple_interest(30000,30,12)"
   ]
  },
  {
   "cell_type": "markdown",
   "id": "629e91ad",
   "metadata": {},
   "source": [
    "## To get the sq of the list from the existing list."
   ]
  },
  {
   "cell_type": "code",
   "execution_count": 11,
   "id": "b87c1dbf",
   "metadata": {},
   "outputs": [],
   "source": [
    "def sq_list(list_data:list):\n",
    "    new_sq_list=[]\n",
    "    \n",
    "    for i in list_data:\n",
    "        new_sq_list.append(i**2)\n",
    "        \n",
    "    return new_sq_list"
   ]
  },
  {
   "cell_type": "code",
   "execution_count": 12,
   "id": "9e36a735",
   "metadata": {},
   "outputs": [
    {
     "data": {
      "text/plain": [
       "[1, 4, 9, 16, 25, 36]"
      ]
     },
     "execution_count": 12,
     "metadata": {},
     "output_type": "execute_result"
    }
   ],
   "source": [
    "sq_list([1,2,3,4,5,6])"
   ]
  },
  {
   "cell_type": "markdown",
   "id": "5023035b",
   "metadata": {},
   "source": [
    "## Authentication Scenario"
   ]
  },
  {
   "cell_type": "code",
   "execution_count": 13,
   "id": "18b6b29a",
   "metadata": {},
   "outputs": [],
   "source": [
    "users={\n",
    "    'raman':'raman@123',\n",
    "    'naman':'naman@123',\n",
    "    'sonal':'sonal@123',\n",
    "    'monal':'monal@123'\n",
    "}"
   ]
  },
  {
   "cell_type": "code",
   "execution_count": 14,
   "id": "49bd92f8",
   "metadata": {},
   "outputs": [
    {
     "data": {
      "text/plain": [
       "dict_keys(['raman', 'naman', 'sonal', 'monal'])"
      ]
     },
     "execution_count": 14,
     "metadata": {},
     "output_type": "execute_result"
    }
   ],
   "source": [
    "users.keys()"
   ]
  },
  {
   "cell_type": "code",
   "execution_count": 15,
   "id": "263337c6",
   "metadata": {},
   "outputs": [
    {
     "data": {
      "text/plain": [
       "'raman@123'"
      ]
     },
     "execution_count": 15,
     "metadata": {},
     "output_type": "execute_result"
    }
   ],
   "source": [
    "users.get('raman')"
   ]
  },
  {
   "cell_type": "code",
   "execution_count": 38,
   "id": "fe954a58",
   "metadata": {},
   "outputs": [],
   "source": [
    "def authentication_user(func):\n",
    "    def wrapper(username,password,*args,**kwargs):\n",
    "        if username in users.keys() and password in users.get(username):\n",
    "            print(\"welcome, Authentication Successfull.\")\n",
    "            result=func(username,password,*args,**kwargs)\n",
    "            \n",
    "            return result\n",
    "        \n",
    "        else:\n",
    "            print(\"Authentication Unsuccssful.\")\n",
    "        \n",
    "    return wrapper"
   ]
  },
  {
   "cell_type": "code",
   "execution_count": 39,
   "id": "8477fa14",
   "metadata": {},
   "outputs": [],
   "source": [
    "@authentication_user\n",
    "def simple_interest_1(username,password,p,r,t):\n",
    "    return (p*r*t)/100\n"
   ]
  },
  {
   "cell_type": "code",
   "execution_count": 40,
   "id": "19783ac0",
   "metadata": {},
   "outputs": [
    {
     "name": "stdout",
     "output_type": "stream",
     "text": [
      "welcome, Authentication Successfull.\n",
      "230.0\n"
     ]
    }
   ],
   "source": [
    "si1=simple_interest_1('naman','naman@123',2300,5,2)\n",
    "print(si1)"
   ]
  }
 ],
 "metadata": {
  "kernelspec": {
   "display_name": "venv",
   "language": "python",
   "name": "python3"
  },
  "language_info": {
   "codemirror_mode": {
    "name": "ipython",
    "version": 3
   },
   "file_extension": ".py",
   "mimetype": "text/x-python",
   "name": "python",
   "nbconvert_exporter": "python",
   "pygments_lexer": "ipython3",
   "version": "3.10.0"
  }
 },
 "nbformat": 4,
 "nbformat_minor": 5
}
