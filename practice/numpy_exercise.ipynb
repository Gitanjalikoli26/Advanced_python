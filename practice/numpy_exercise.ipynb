{
 "cells": [
  {
   "cell_type": "markdown",
   "id": "1c841de4",
   "metadata": {},
   "source": [
    "## Numpy Exercise"
   ]
  },
  {
   "cell_type": "markdown",
   "id": "c438391e",
   "metadata": {},
   "source": [
    "## Create an array of 10 zeros and change the fifth value to 1."
   ]
  },
  {
   "cell_type": "code",
   "execution_count": null,
   "id": "f229cc32",
   "metadata": {},
   "outputs": [],
   "source": [
    "import numpy as np\n",
    "array1=np.zeros(10)"
   ]
  },
  {
   "cell_type": "code",
   "execution_count": 3,
   "id": "5926ffae",
   "metadata": {},
   "outputs": [
    {
     "data": {
      "text/plain": [
       "array([0., 0., 0., 0., 0., 0., 0., 0., 0., 0.])"
      ]
     },
     "execution_count": 3,
     "metadata": {},
     "output_type": "execute_result"
    }
   ],
   "source": [
    "array1"
   ]
  },
  {
   "cell_type": "code",
   "execution_count": 4,
   "id": "0487e941",
   "metadata": {},
   "outputs": [],
   "source": [
    "array1[9]=1"
   ]
  },
  {
   "cell_type": "code",
   "execution_count": 5,
   "id": "d6c1ce14",
   "metadata": {},
   "outputs": [
    {
     "data": {
      "text/plain": [
       "array([0., 0., 0., 0., 0., 0., 0., 0., 0., 1.])"
      ]
     },
     "execution_count": 5,
     "metadata": {},
     "output_type": "execute_result"
    }
   ],
   "source": [
    "array1"
   ]
  },
  {
   "cell_type": "markdown",
   "id": "b7bb734c",
   "metadata": {},
   "source": [
    "## Create a NumPy array with values from 10 to 50."
   ]
  },
  {
   "cell_type": "code",
   "execution_count": 6,
   "id": "ed5b4d8b",
   "metadata": {},
   "outputs": [
    {
     "data": {
      "text/plain": [
       "array([10, 11, 12, 13, 14, 15, 16, 17, 18, 19, 20, 21, 22, 23, 24, 25, 26,\n",
       "       27, 28, 29, 30, 31, 32, 33, 34, 35, 36, 37, 38, 39, 40, 41, 42, 43,\n",
       "       44, 45, 46, 47, 48, 49])"
      ]
     },
     "execution_count": 6,
     "metadata": {},
     "output_type": "execute_result"
    }
   ],
   "source": [
    "array2=np.arange(10,50)\n",
    "array2"
   ]
  },
  {
   "cell_type": "markdown",
   "id": "1e4a1561",
   "metadata": {},
   "source": [
    "## Create an array of even numbers from 2 to 20.\n",
    "\n"
   ]
  },
  {
   "cell_type": "code",
   "execution_count": 8,
   "id": "065348c8",
   "metadata": {},
   "outputs": [
    {
     "data": {
      "text/plain": [
       "array([ 2,  4,  6,  8, 10, 12, 14, 16, 18, 20])"
      ]
     },
     "execution_count": 8,
     "metadata": {},
     "output_type": "execute_result"
    }
   ],
   "source": [
    "array_even=np.arange(2,21,2)\n",
    "array_even"
   ]
  },
  {
   "cell_type": "markdown",
   "id": "ac6e14f4",
   "metadata": {},
   "source": [
    "## Create a 3×3 matrix with values ranging from 0 to 8."
   ]
  },
  {
   "cell_type": "code",
   "execution_count": 12,
   "id": "aa4c8fbf",
   "metadata": {},
   "outputs": [
    {
     "data": {
      "text/plain": [
       "array([[0, 1, 2],\n",
       "       [3, 4, 5],\n",
       "       [6, 7, 8]])"
      ]
     },
     "execution_count": 12,
     "metadata": {},
     "output_type": "execute_result"
    }
   ],
   "source": [
    "array4=np.arange(9).reshape(3,3)\n",
    "array4"
   ]
  },
  {
   "cell_type": "markdown",
   "id": "1905bbf1",
   "metadata": {},
   "source": [
    "## Find the shape, size, and data type of an array."
   ]
  },
  {
   "cell_type": "code",
   "execution_count": 13,
   "id": "e3cb0271",
   "metadata": {},
   "outputs": [
    {
     "data": {
      "text/plain": [
       "(3, 3)"
      ]
     },
     "execution_count": 13,
     "metadata": {},
     "output_type": "execute_result"
    }
   ],
   "source": [
    "array4.shape"
   ]
  },
  {
   "cell_type": "code",
   "execution_count": 14,
   "id": "cc16508f",
   "metadata": {},
   "outputs": [
    {
     "data": {
      "text/plain": [
       "9"
      ]
     },
     "execution_count": 14,
     "metadata": {},
     "output_type": "execute_result"
    }
   ],
   "source": [
    "array4.size"
   ]
  },
  {
   "cell_type": "code",
   "execution_count": 15,
   "id": "c02f4fe9",
   "metadata": {},
   "outputs": [
    {
     "data": {
      "text/plain": [
       "numpy.ndarray"
      ]
     },
     "execution_count": 15,
     "metadata": {},
     "output_type": "execute_result"
    }
   ],
   "source": [
    "type(array4)"
   ]
  },
  {
   "cell_type": "markdown",
   "id": "dfcee31e",
   "metadata": {},
   "source": [
    "## Create a 5×5 matrix with all values equal to 7.\n",
    "\n"
   ]
  },
  {
   "cell_type": "code",
   "execution_count": 17,
   "id": "95d0729c",
   "metadata": {},
   "outputs": [
    {
     "data": {
      "text/plain": [
       "array([[7, 7, 7, 7, 7],\n",
       "       [7, 7, 7, 7, 7],\n",
       "       [7, 7, 7, 7, 7],\n",
       "       [7, 7, 7, 7, 7],\n",
       "       [7, 7, 7, 7, 7]])"
      ]
     },
     "execution_count": 17,
     "metadata": {},
     "output_type": "execute_result"
    }
   ],
   "source": [
    "array5=np.full((5,5),7)\n",
    "array5"
   ]
  },
  {
   "cell_type": "markdown",
   "id": "6484fd1f",
   "metadata": {},
   "source": [
    "## Create a 1D array of 50 random integers between 1 and 100."
   ]
  },
  {
   "cell_type": "code",
   "execution_count": 20,
   "id": "310e53eb",
   "metadata": {},
   "outputs": [
    {
     "data": {
      "text/plain": [
       "array([49, 44,  9, 52, 26, 77, 74,  6, 54, 81, 58, 51, 67, 22, 44, 26, 36,\n",
       "       48, 51, 73, 34, 90, 73, 95, 74, 32, 21,  6, 67, 34, 93,  2, 23, 61,\n",
       "       18, 30, 76, 73, 92, 21, 71, 91, 81, 42, 89, 45, 89, 92, 91, 87],\n",
       "      dtype=int32)"
      ]
     },
     "execution_count": 20,
     "metadata": {},
     "output_type": "execute_result"
    }
   ],
   "source": [
    "array_random=np.random.randint(1,100,size=50)\n",
    "array_random"
   ]
  },
  {
   "cell_type": "markdown",
   "id": "2c0fc3bc",
   "metadata": {},
   "source": [
    "## Reshape a 1D array of 12 elements into a 3×4 matrix.\n",
    "\n"
   ]
  },
  {
   "cell_type": "code",
   "execution_count": 24,
   "id": "d58b733d",
   "metadata": {},
   "outputs": [],
   "source": [
    "array_new=np.arange(1,13)"
   ]
  },
  {
   "cell_type": "code",
   "execution_count": 25,
   "id": "72eace13",
   "metadata": {},
   "outputs": [
    {
     "data": {
      "text/plain": [
       "array([ 1,  2,  3,  4,  5,  6,  7,  8,  9, 10, 11, 12])"
      ]
     },
     "execution_count": 25,
     "metadata": {},
     "output_type": "execute_result"
    }
   ],
   "source": [
    "array_new"
   ]
  },
  {
   "cell_type": "code",
   "execution_count": 26,
   "id": "866d073f",
   "metadata": {},
   "outputs": [
    {
     "data": {
      "text/plain": [
       "array([[ 1,  2,  3,  4],\n",
       "       [ 5,  6,  7,  8],\n",
       "       [ 9, 10, 11, 12]])"
      ]
     },
     "execution_count": 26,
     "metadata": {},
     "output_type": "execute_result"
    }
   ],
   "source": [
    "array_new.reshape(3,4)"
   ]
  },
  {
   "cell_type": "markdown",
   "id": "0d84ef47",
   "metadata": {},
   "source": [
    "## Find the maximum, minimum, and mean of a NumPy array."
   ]
  },
  {
   "cell_type": "code",
   "execution_count": 27,
   "id": "da7f921c",
   "metadata": {},
   "outputs": [
    {
     "data": {
      "text/plain": [
       "np.int64(1)"
      ]
     },
     "execution_count": 27,
     "metadata": {},
     "output_type": "execute_result"
    }
   ],
   "source": [
    "array_new.min()"
   ]
  },
  {
   "cell_type": "code",
   "execution_count": 28,
   "id": "1edf2267",
   "metadata": {},
   "outputs": [
    {
     "data": {
      "text/plain": [
       "np.int64(12)"
      ]
     },
     "execution_count": 28,
     "metadata": {},
     "output_type": "execute_result"
    }
   ],
   "source": [
    "array_new.max()"
   ]
  },
  {
   "cell_type": "code",
   "execution_count": 29,
   "id": "30aa1eb0",
   "metadata": {},
   "outputs": [
    {
     "data": {
      "text/plain": [
       "np.float64(6.5)"
      ]
     },
     "execution_count": 29,
     "metadata": {},
     "output_type": "execute_result"
    }
   ],
   "source": [
    "array_new.mean()"
   ]
  },
  {
   "cell_type": "code",
   "execution_count": 30,
   "id": "aeeab7ef",
   "metadata": {},
   "outputs": [
    {
     "data": {
      "text/plain": [
       "np.int64(78)"
      ]
     },
     "execution_count": 30,
     "metadata": {},
     "output_type": "execute_result"
    }
   ],
   "source": [
    "array_new.sum()"
   ]
  },
  {
   "cell_type": "markdown",
   "id": "0ca05432",
   "metadata": {},
   "source": [
    "## Reverse a NumPy array (e.g., [1, 2, 3] → [3, 2, 1])"
   ]
  },
  {
   "cell_type": "code",
   "execution_count": 33,
   "id": "5b0e8fda",
   "metadata": {},
   "outputs": [],
   "source": [
    "new_array_reverse=array_new[::-1]"
   ]
  },
  {
   "cell_type": "code",
   "execution_count": 34,
   "id": "7bbf70be",
   "metadata": {},
   "outputs": [
    {
     "data": {
      "text/plain": [
       "array([12, 11, 10,  9,  8,  7,  6,  5,  4,  3,  2,  1])"
      ]
     },
     "execution_count": 34,
     "metadata": {},
     "output_type": "execute_result"
    }
   ],
   "source": [
    "new_array_reverse"
   ]
  },
  {
   "cell_type": "markdown",
   "id": "1fe8e32c",
   "metadata": {},
   "source": [
    "## Find the index of the maximum and minimum values in a NumPy array."
   ]
  },
  {
   "cell_type": "code",
   "execution_count": 36,
   "id": "bff0d140",
   "metadata": {},
   "outputs": [
    {
     "data": {
      "text/plain": [
       "np.int64(0)"
      ]
     },
     "execution_count": 36,
     "metadata": {},
     "output_type": "execute_result"
    }
   ],
   "source": [
    "max_index=new_array_reverse.argmax()\n",
    "max_index"
   ]
  },
  {
   "cell_type": "code",
   "execution_count": 37,
   "id": "0edb488c",
   "metadata": {},
   "outputs": [
    {
     "data": {
      "text/plain": [
       "np.int64(11)"
      ]
     },
     "execution_count": 37,
     "metadata": {},
     "output_type": "execute_result"
    }
   ],
   "source": [
    "min_index=new_array_reverse.argmin()\n",
    "min_index"
   ]
  },
  {
   "cell_type": "markdown",
   "id": "688ace14",
   "metadata": {},
   "source": [
    "## Create a 4×4 identity matrix"
   ]
  },
  {
   "cell_type": "code",
   "execution_count": 38,
   "id": "7d0292d9",
   "metadata": {},
   "outputs": [
    {
     "data": {
      "text/plain": [
       "array([[1., 0., 0., 0.],\n",
       "       [0., 1., 0., 0.],\n",
       "       [0., 0., 1., 0.],\n",
       "       [0., 0., 0., 1.]])"
      ]
     },
     "execution_count": 38,
     "metadata": {},
     "output_type": "execute_result"
    }
   ],
   "source": [
    "identity_matrix=np.eye(4)\n",
    "identity_matrix"
   ]
  },
  {
   "cell_type": "markdown",
   "id": "8f3d4c8e",
   "metadata": {},
   "source": [
    "##  Replace all odd numbers in an array with -1\n",
    "\n"
   ]
  },
  {
   "cell_type": "code",
   "execution_count": 42,
   "id": "121c7ae6",
   "metadata": {},
   "outputs": [
    {
     "data": {
      "text/plain": [
       "array([ 0, -1,  2, -1,  4, -1,  6, -1,  8, -1])"
      ]
     },
     "execution_count": 42,
     "metadata": {},
     "output_type": "execute_result"
    }
   ],
   "source": [
    "array6=np.arange(10)\n",
    "array6[array6 %2!=0]=-1\n",
    "array6"
   ]
  },
  {
   "cell_type": "markdown",
   "id": "7740aac7",
   "metadata": {},
   "source": [
    "## 6. Extract all even numbers from a 2D array\n"
   ]
  },
  {
   "cell_type": "code",
   "execution_count": 43,
   "id": "9b7f3d71",
   "metadata": {},
   "outputs": [
    {
     "data": {
      "text/plain": [
       "array([2, 4, 6])"
      ]
     },
     "execution_count": 43,
     "metadata": {},
     "output_type": "execute_result"
    }
   ],
   "source": [
    "array_2D=np.array([[1,2,3],[4,5,6]])\n",
    "even_value=array_2D[array_2D %2==0]\n",
    "even_value"
   ]
  }
 ],
 "metadata": {
  "kernelspec": {
   "display_name": "venv",
   "language": "python",
   "name": "python3"
  },
  "language_info": {
   "codemirror_mode": {
    "name": "ipython",
    "version": 3
   },
   "file_extension": ".py",
   "mimetype": "text/x-python",
   "name": "python",
   "nbconvert_exporter": "python",
   "pygments_lexer": "ipython3",
   "version": "3.10.0"
  }
 },
 "nbformat": 4,
 "nbformat_minor": 5
}
