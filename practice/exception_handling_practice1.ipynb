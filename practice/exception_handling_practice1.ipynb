{
 "cells": [
  {
   "cell_type": "markdown",
   "id": "a7d2086d",
   "metadata": {},
   "source": [
    "## Exception Handling Practice"
   ]
  },
  {
   "cell_type": "code",
   "execution_count": 3,
   "id": "a64f632f",
   "metadata": {},
   "outputs": [
    {
     "name": "stdout",
     "output_type": "stream",
     "text": [
      "Code Run\n",
      "0.5\n"
     ]
    }
   ],
   "source": [
    "# Divide Two Numbers\n",
    "# Write a program that takes two numbers from the user and divides them. Handle division by zero.\n",
    "\n",
    "def division():\n",
    "    try:\n",
    "        num1=int(input(\"Enter the value of Num1:\"))\n",
    "        num2=int(input(\"Enter the value of Num2:\"))\n",
    "        result=num1/num2\n",
    "        return result\n",
    "    except ZeroDivisionError:\n",
    "        print(\"provide the number correctly \")\n",
    "        \n",
    "    except ValueError:\n",
    "        print(\"Provide the integer not string.\")\n",
    "        \n",
    "    finally:\n",
    "        print(\"Code Run\")\n",
    "        \n",
    "print(division())"
   ]
  },
  {
   "cell_type": "code",
   "execution_count": 6,
   "id": "e96e35bb",
   "metadata": {},
   "outputs": [
    {
     "name": "stdout",
     "output_type": "stream",
     "text": [
      "Provide the proper index\n",
      "access the data with the index\n",
      "None\n"
     ]
    }
   ],
   "source": [
    "# Access List Element\n",
    "# Create a list and ask the user to enter an index. \n",
    "# Print the element at that index. Handle the case when the index is out of range.\n",
    "\n",
    "def access_element():\n",
    "    \n",
    "    try:\n",
    "        list1=[1,2,3,4,5,6]\n",
    "        index=int(input(\"Enter the Index:\"))\n",
    "        \n",
    "        print(f'element at index {index} and is {list1[index]}')\n",
    "        \n",
    "    except IndexError:\n",
    "        print(\"Provide the proper index\")\n",
    "        \n",
    "    except Exception as e:\n",
    "        print(\"provide data properly\")\n",
    "    finally:\n",
    "        print(\"access the data with the index\")\n",
    "        \n",
    "print(access_element())\n",
    "        "
   ]
  },
  {
   "cell_type": "code",
   "execution_count": 8,
   "id": "56ef3ed7",
   "metadata": {},
   "outputs": [
    {
     "name": "stdout",
     "output_type": "stream",
     "text": [
      "File does not exist\n",
      "code run\n"
     ]
    }
   ],
   "source": [
    "# Open a File\n",
    "# Try to open a file called data.txt. \n",
    "# Handle the case when the file does not exist.\n",
    "\n",
    "def file():\n",
    "    try:\n",
    "        with open('data.txt','r')as file:\n",
    "            content=file.read()\n",
    "            print(content)\n",
    "            \n",
    "    except FileNotFoundError:\n",
    "        print(\"File does not exist\")\n",
    "        \n",
    "    finally:\n",
    "        print(\"code run\")\n",
    "        \n",
    "file()\n",
    "        \n",
    "            \n",
    "\n"
   ]
  },
  {
   "cell_type": "code",
   "execution_count": 10,
   "id": "4690af42",
   "metadata": {},
   "outputs": [
    {
     "name": "stdout",
     "output_type": "stream",
     "text": [
      "finally block run\n"
     ]
    },
    {
     "data": {
      "text/plain": [
       "11"
      ]
     },
     "execution_count": 10,
     "metadata": {},
     "output_type": "execute_result"
    }
   ],
   "source": [
    "# Convert String to Integer.\n",
    "# Ask the user to enter a number and convert it to an integer. \n",
    "# Handle invalid inputs.\n",
    "\n",
    "def convert():\n",
    "    try:\n",
    "        num1=input(\"Enter the number:\")\n",
    "        return int(num1)\n",
    "    \n",
    "    except Exception as e:\n",
    "        print(\"provide the proper input\")\n",
    "    finally:\n",
    "        print(\"finally block run\")\n",
    "\n",
    "convert()"
   ]
  },
  {
   "cell_type": "code",
   "execution_count": 15,
   "id": "446713dd",
   "metadata": {},
   "outputs": [
    {
     "name": "stdout",
     "output_type": "stream",
     "text": [
      "provide the proper input.\n",
      "runned\n"
     ]
    }
   ],
   "source": [
    "# Multiple Exceptions\n",
    "# Write a program that takes two numbers and divides them. Handle both ValueError and ZeroDivisionError.\n",
    "\n",
    "def divide():\n",
    "    try:\n",
    "        n1=int(input(\"enter the n1:\"))\n",
    "        n2=int(input(\"enter the n2:\"))\n",
    "        s1=n1/n2\n",
    "        print(s1)\n",
    "        \n",
    "    except ValueError:\n",
    "        print(\"provide the proper input.\")\n",
    "    except ZeroDivisionError:\n",
    "        print(\"provide Non-Zero number\")\n",
    "        \n",
    "    finally:\n",
    "        print(\"runned\")\n",
    "        \n",
    "divide()"
   ]
  },
  {
   "cell_type": "code",
   "execution_count": 17,
   "id": "5a842daf",
   "metadata": {},
   "outputs": [
    {
     "name": "stdout",
     "output_type": "stream",
     "text": [
      "Provide the Proper number\n",
      "Program to add two numbers.\n"
     ]
    }
   ],
   "source": [
    "# Handle Type Error\n",
    "# Write a program that tries to add a number and a string. Handle the TypeError.\n",
    "\n",
    "def add_num():\n",
    "    try:\n",
    "        a=10\n",
    "        b='10'\n",
    "        addition=a+b\n",
    "        return addition\n",
    "    \n",
    "    except TypeError:\n",
    "        print(\"Provide the Proper number\")\n",
    "    finally:\n",
    "        print(\"Program to add two numbers.\")\n",
    "        \n",
    "add_num()"
   ]
  },
  {
   "cell_type": "code",
   "execution_count": null,
   "id": "5a2ff446",
   "metadata": {},
   "outputs": [],
   "source": []
  }
 ],
 "metadata": {
  "kernelspec": {
   "display_name": "venv",
   "language": "python",
   "name": "python3"
  },
  "language_info": {
   "codemirror_mode": {
    "name": "ipython",
    "version": 3
   },
   "file_extension": ".py",
   "mimetype": "text/x-python",
   "name": "python",
   "nbconvert_exporter": "python",
   "pygments_lexer": "ipython3",
   "version": "3.10.0"
  }
 },
 "nbformat": 4,
 "nbformat_minor": 5
}
