{
 "cells": [
  {
   "cell_type": "code",
   "execution_count": null,
   "id": "3c0d25eb",
   "metadata": {},
   "outputs": [],
   "source": []
  },
  {
   "cell_type": "code",
   "execution_count": null,
   "id": "9b584e81",
   "metadata": {},
   "outputs": [],
   "source": []
  },
  {
   "cell_type": "code",
   "execution_count": 5,
   "id": "9970e2d8",
   "metadata": {},
   "outputs": [],
   "source": [
    "def append_data(dept_data,*lists):\n",
    "    \n",
    "    for i in lists:\n",
    "        i.append(dept_data)\n",
    "        \n",
    "emp_list_1=[101,'Komal']\n",
    "emp_list_2=[102,'Manasi']\n",
    "\n",
    "append_data('IT',emp_list_1,emp_list_2)"
   ]
  },
  {
   "cell_type": "code",
   "execution_count": 6,
   "id": "d483004b",
   "metadata": {},
   "outputs": [
    {
     "data": {
      "text/plain": [
       "[101, 'Komal', 'IT']"
      ]
     },
     "execution_count": 6,
     "metadata": {},
     "output_type": "execute_result"
    }
   ],
   "source": [
    "emp_list_1"
   ]
  },
  {
   "cell_type": "code",
   "execution_count": 7,
   "id": "1e85f3c1",
   "metadata": {},
   "outputs": [
    {
     "data": {
      "text/plain": [
       "[102, 'Manasi', 'IT']"
      ]
     },
     "execution_count": 7,
     "metadata": {},
     "output_type": "execute_result"
    }
   ],
   "source": [
    "emp_list_2"
   ]
  },
  {
   "cell_type": "code",
   "execution_count": 8,
   "id": "1683bc35",
   "metadata": {},
   "outputs": [],
   "source": [
    "# Dictionary Extraction\n",
    "\n",
    "dictionary={\n",
    "    'id':101\n",
    "}"
   ]
  },
  {
   "cell_type": "code",
   "execution_count": 9,
   "id": "3f1dfe0a",
   "metadata": {},
   "outputs": [
    {
     "data": {
      "text/plain": [
       "dict"
      ]
     },
     "execution_count": 9,
     "metadata": {},
     "output_type": "execute_result"
    }
   ],
   "source": [
    "type(dictionary)"
   ]
  },
  {
   "cell_type": "code",
   "execution_count": 10,
   "id": "2ec9fa0b",
   "metadata": {},
   "outputs": [
    {
     "data": {
      "text/plain": [
       "dict_keys(['id'])"
      ]
     },
     "execution_count": 10,
     "metadata": {},
     "output_type": "execute_result"
    }
   ],
   "source": [
    "dictionary.keys()"
   ]
  },
  {
   "cell_type": "code",
   "execution_count": 11,
   "id": "dc7e0cf5",
   "metadata": {},
   "outputs": [
    {
     "data": {
      "text/plain": [
       "dict_items([('id', 101)])"
      ]
     },
     "execution_count": 11,
     "metadata": {},
     "output_type": "execute_result"
    }
   ],
   "source": [
    "dictionary.items()"
   ]
  },
  {
   "cell_type": "code",
   "execution_count": 12,
   "id": "87c1bc1f",
   "metadata": {},
   "outputs": [
    {
     "data": {
      "text/plain": [
       "dict_values([101])"
      ]
     },
     "execution_count": 12,
     "metadata": {},
     "output_type": "execute_result"
    }
   ],
   "source": [
    "dictionary.values()"
   ]
  },
  {
   "cell_type": "code",
   "execution_count": null,
   "id": "96500866",
   "metadata": {},
   "outputs": [],
   "source": [
    "# count the length of the value of the dictionary.\n",
    "def data_length(**kwargs):\n",
    "    dict={}\n",
    "    \n",
    "    for key,value in kwargs.items():\n",
    "        dict[key]=len(value)\n",
    "        \n",
    "    return dict"
   ]
  },
  {
   "cell_type": "code",
   "execution_count": 14,
   "id": "df38c446",
   "metadata": {},
   "outputs": [],
   "source": [
    "length_emp=data_length(emp1=emp_list_1,emp2=emp_list_2)"
   ]
  },
  {
   "cell_type": "code",
   "execution_count": 15,
   "id": "021ba9f8",
   "metadata": {},
   "outputs": [
    {
     "data": {
      "text/plain": [
       "{'emp1': 3, 'emp2': 3}"
      ]
     },
     "execution_count": 15,
     "metadata": {},
     "output_type": "execute_result"
    }
   ],
   "source": [
    "length_emp"
   ]
  },
  {
   "cell_type": "code",
   "execution_count": 19,
   "id": "a63137b7",
   "metadata": {},
   "outputs": [],
   "source": [
    "emp_list3=[103,'Tanu',35000,'HR']"
   ]
  },
  {
   "cell_type": "code",
   "execution_count": 20,
   "id": "39cf3d7e",
   "metadata": {},
   "outputs": [],
   "source": [
    "length_emp=data_length(emp1=emp_list_1,emp2=emp_list_2,emp3=emp_list3)"
   ]
  },
  {
   "cell_type": "code",
   "execution_count": 21,
   "id": "74253d77",
   "metadata": {},
   "outputs": [
    {
     "data": {
      "text/plain": [
       "{'emp1': 3, 'emp2': 3, 'emp3': 4}"
      ]
     },
     "execution_count": 21,
     "metadata": {},
     "output_type": "execute_result"
    }
   ],
   "source": [
    "length_emp"
   ]
  },
  {
   "cell_type": "code",
   "execution_count": 29,
   "id": "7f722108",
   "metadata": {},
   "outputs": [],
   "source": [
    "# If providing *args and **kwargs together, then you must give args first.\n",
    "\n",
    "def count_args(*args,**kwargs):\n",
    "    return (len(args),len(kwargs))"
   ]
  },
  {
   "cell_type": "code",
   "execution_count": 30,
   "id": "70825cde",
   "metadata": {},
   "outputs": [
    {
     "data": {
      "text/plain": [
       "(3, 3)"
      ]
     },
     "execution_count": 30,
     "metadata": {},
     "output_type": "execute_result"
    }
   ],
   "source": [
    "count_args(1,2,3,name=\"raman\",id=\"101\",salary=20000)"
   ]
  },
  {
   "cell_type": "code",
   "execution_count": 39,
   "id": "96dc90ce",
   "metadata": {},
   "outputs": [],
   "source": [
    "def stud_pass_fail(**kwargs):\n",
    "    '''\n",
    "    Take the name and marks for the multiple student as input\n",
    "    return dictionary that contain the info of the student who has passed / failed in exam.\n",
    "    \n",
    "    '''\n",
    "    dct={}\n",
    "    for name,marks in kwargs.items():\n",
    "        if marks>35:\n",
    "            pf=\"Passed\"\n",
    "        else:\n",
    "            pf=\"Failed\"\n",
    "            \n",
    "        dct[name]=pf\n",
    "            \n",
    "    return dct\n",
    "            \n",
    "        # print(f'Hii {name},you have {pf}')"
   ]
  },
  {
   "cell_type": "code",
   "execution_count": 40,
   "id": "c577a540",
   "metadata": {},
   "outputs": [],
   "source": [
    "passed_failed=stud_pass_fail(mansi=95,komal=25,tanu=88,Dhanu=35)"
   ]
  },
  {
   "cell_type": "code",
   "execution_count": 41,
   "id": "34483a2b",
   "metadata": {},
   "outputs": [
    {
     "data": {
      "text/plain": [
       "{'mansi': 'Passed', 'komal': 'Failed', 'tanu': 'Passed', 'Dhanu': 'Failed'}"
      ]
     },
     "execution_count": 41,
     "metadata": {},
     "output_type": "execute_result"
    }
   ],
   "source": [
    "passed_failed"
   ]
  },
  {
   "cell_type": "markdown",
   "id": "a9de46cd",
   "metadata": {},
   "source": [
    "## Create the user profile based on the details provided to the functions."
   ]
  },
  {
   "cell_type": "code",
   "execution_count": 42,
   "id": "ff64d1ac",
   "metadata": {},
   "outputs": [],
   "source": [
    "def create_profile(**kwargs):\n",
    "    profile={}\n",
    "    profile[\"Username\"]=kwargs[\"username\"]\n",
    "    profile[\"FullName\"]=kwargs[\"fullname\"]\n",
    "    profile[\"Age\"]=kwargs[\"age\"]\n",
    "    profile[\"Location\"]=kwargs[\"location\"]\n",
    "    \n",
    "    return profile"
   ]
  },
  {
   "cell_type": "code",
   "execution_count": 43,
   "id": "824cb047",
   "metadata": {},
   "outputs": [],
   "source": [
    "create_user_profile=create_profile(username=\"mansi\",fullname=\"mansi mali\",age=23,location=\"kalyan\")"
   ]
  },
  {
   "cell_type": "code",
   "execution_count": 44,
   "id": "292043d8",
   "metadata": {},
   "outputs": [
    {
     "data": {
      "text/plain": [
       "{'Username': 'mansi',\n",
       " 'FullName': 'mansi mali',\n",
       " 'Age': 23,\n",
       " 'Location': 'kalyan'}"
      ]
     },
     "execution_count": 44,
     "metadata": {},
     "output_type": "execute_result"
    }
   ],
   "source": [
    "create_user_profile"
   ]
  },
  {
   "cell_type": "markdown",
   "id": "24a35e58",
   "metadata": {},
   "source": [
    "## Another way To create profile using for loop with dict\n"
   ]
  },
  {
   "cell_type": "code",
   "execution_count": 45,
   "id": "cbe0f3e6",
   "metadata": {},
   "outputs": [],
   "source": [
    "def create_pro(**kwargs):\n",
    "    \n",
    "    profile={}\n",
    "    for key,value in kwargs.items():\n",
    "        profile[key]=value\n",
    "        \n",
    "    return profile"
   ]
  },
  {
   "cell_type": "code",
   "execution_count": 46,
   "id": "2c0b9245",
   "metadata": {},
   "outputs": [],
   "source": [
    "create_user=create_pro(username=\"mansi\",fullname=\"mansi mali\",age=23,location=\"kalyan\")"
   ]
  },
  {
   "cell_type": "code",
   "execution_count": 47,
   "id": "fb27e53d",
   "metadata": {},
   "outputs": [
    {
     "data": {
      "text/plain": [
       "{'username': 'mansi',\n",
       " 'fullname': 'mansi mali',\n",
       " 'age': 23,\n",
       " 'location': 'kalyan'}"
      ]
     },
     "execution_count": 47,
     "metadata": {},
     "output_type": "execute_result"
    }
   ],
   "source": [
    "create_user"
   ]
  }
 ],
 "metadata": {
  "kernelspec": {
   "display_name": "venv",
   "language": "python",
   "name": "python3"
  },
  "language_info": {
   "codemirror_mode": {
    "name": "ipython",
    "version": 3
   },
   "file_extension": ".py",
   "mimetype": "text/x-python",
   "name": "python",
   "nbconvert_exporter": "python",
   "pygments_lexer": "ipython3",
   "version": "3.10.0"
  }
 },
 "nbformat": 4,
 "nbformat_minor": 5
}
