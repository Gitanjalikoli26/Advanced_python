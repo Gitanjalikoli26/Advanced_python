{
 "cells": [
  {
   "cell_type": "code",
   "execution_count": null,
   "id": "3c0d25eb",
   "metadata": {},
   "outputs": [],
   "source": []
  },
  {
   "cell_type": "code",
   "execution_count": null,
   "id": "9b584e81",
   "metadata": {},
   "outputs": [],
   "source": []
  },
  {
   "cell_type": "code",
   "execution_count": 5,
   "id": "9970e2d8",
   "metadata": {},
   "outputs": [],
   "source": [
    "def append_data(dept_data,*lists):\n",
    "    \n",
    "    for i in lists:\n",
    "        i.append(dept_data)\n",
    "        \n",
    "emp_list_1=[101,'Komal']\n",
    "emp_list_2=[102,'Manasi']\n",
    "\n",
    "append_data('IT',emp_list_1,emp_list_2)"
   ]
  },
  {
   "cell_type": "code",
   "execution_count": 6,
   "id": "d483004b",
   "metadata": {},
   "outputs": [
    {
     "data": {
      "text/plain": [
       "[101, 'Komal', 'IT']"
      ]
     },
     "execution_count": 6,
     "metadata": {},
     "output_type": "execute_result"
    }
   ],
   "source": [
    "emp_list_1"
   ]
  },
  {
   "cell_type": "code",
   "execution_count": 7,
   "id": "1e85f3c1",
   "metadata": {},
   "outputs": [
    {
     "data": {
      "text/plain": [
       "[102, 'Manasi', 'IT']"
      ]
     },
     "execution_count": 7,
     "metadata": {},
     "output_type": "execute_result"
    }
   ],
   "source": [
    "emp_list_2"
   ]
  },
  {
   "cell_type": "code",
   "execution_count": 8,
   "id": "1683bc35",
   "metadata": {},
   "outputs": [],
   "source": [
    "# Dictionary Extraction\n",
    "\n",
    "dictionary={\n",
    "    'id':101\n",
    "}"
   ]
  },
  {
   "cell_type": "code",
   "execution_count": 9,
   "id": "3f1dfe0a",
   "metadata": {},
   "outputs": [
    {
     "data": {
      "text/plain": [
       "dict"
      ]
     },
     "execution_count": 9,
     "metadata": {},
     "output_type": "execute_result"
    }
   ],
   "source": [
    "type(dictionary)"
   ]
  },
  {
   "cell_type": "code",
   "execution_count": 10,
   "id": "2ec9fa0b",
   "metadata": {},
   "outputs": [
    {
     "data": {
      "text/plain": [
       "dict_keys(['id'])"
      ]
     },
     "execution_count": 10,
     "metadata": {},
     "output_type": "execute_result"
    }
   ],
   "source": [
    "dictionary.keys()"
   ]
  },
  {
   "cell_type": "code",
   "execution_count": 11,
   "id": "dc7e0cf5",
   "metadata": {},
   "outputs": [
    {
     "data": {
      "text/plain": [
       "dict_items([('id', 101)])"
      ]
     },
     "execution_count": 11,
     "metadata": {},
     "output_type": "execute_result"
    }
   ],
   "source": [
    "dictionary.items()"
   ]
  },
  {
   "cell_type": "code",
   "execution_count": 12,
   "id": "87c1bc1f",
   "metadata": {},
   "outputs": [
    {
     "data": {
      "text/plain": [
       "dict_values([101])"
      ]
     },
     "execution_count": 12,
     "metadata": {},
     "output_type": "execute_result"
    }
   ],
   "source": [
    "dictionary.values()"
   ]
  },
  {
   "cell_type": "code",
   "execution_count": null,
   "id": "96500866",
   "metadata": {},
   "outputs": [],
   "source": [
    "# count the length of the value of the dictionary.\n",
    "def data_length(**kwargs):\n",
    "    dict={}\n",
    "    \n",
    "    for key,value in kwargs.items():\n",
    "        dict[key]=len(value)\n",
    "        \n",
    "    return dict"
   ]
  },
  {
   "cell_type": "code",
   "execution_count": 14,
   "id": "df38c446",
   "metadata": {},
   "outputs": [],
   "source": [
    "length_emp=data_length(emp1=emp_list_1,emp2=emp_list_2)"
   ]
  },
  {
   "cell_type": "code",
   "execution_count": 15,
   "id": "021ba9f8",
   "metadata": {},
   "outputs": [
    {
     "data": {
      "text/plain": [
       "{'emp1': 3, 'emp2': 3}"
      ]
     },
     "execution_count": 15,
     "metadata": {},
     "output_type": "execute_result"
    }
   ],
   "source": [
    "length_emp"
   ]
  },
  {
   "cell_type": "code",
   "execution_count": 19,
   "id": "a63137b7",
   "metadata": {},
   "outputs": [],
   "source": [
    "emp_list3=[103,'Tanu',35000,'HR']"
   ]
  },
  {
   "cell_type": "code",
   "execution_count": 20,
   "id": "39cf3d7e",
   "metadata": {},
   "outputs": [],
   "source": [
    "length_emp=data_length(emp1=emp_list_1,emp2=emp_list_2,emp3=emp_list3)"
   ]
  },
  {
   "cell_type": "code",
   "execution_count": 21,
   "id": "74253d77",
   "metadata": {},
   "outputs": [
    {
     "data": {
      "text/plain": [
       "{'emp1': 3, 'emp2': 3, 'emp3': 4}"
      ]
     },
     "execution_count": 21,
     "metadata": {},
     "output_type": "execute_result"
    }
   ],
   "source": [
    "length_emp"
   ]
  }
 ],
 "metadata": {
  "kernelspec": {
   "display_name": "venv",
   "language": "python",
   "name": "python3"
  },
  "language_info": {
   "codemirror_mode": {
    "name": "ipython",
    "version": 3
   },
   "file_extension": ".py",
   "mimetype": "text/x-python",
   "name": "python",
   "nbconvert_exporter": "python",
   "pygments_lexer": "ipython3",
   "version": "3.10.0"
  }
 },
 "nbformat": 4,
 "nbformat_minor": 5
}
